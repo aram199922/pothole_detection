{
 "cells": [
  {
   "cell_type": "code",
   "execution_count": 6,
   "metadata": {},
   "outputs": [],
   "source": [
    "import os\n",
    "import shutil\n",
    "\n",
    "from PIL import Image\n",
    "from math import floor"
   ]
  },
  {
   "cell_type": "markdown",
   "metadata": {},
   "source": [
    "#### AsphaltBad dataset"
   ]
  },
  {
   "cell_type": "code",
   "execution_count": 7,
   "metadata": {},
   "outputs": [],
   "source": [
    "image_dir = \"data/badAsphalt/asphaltBad\"\n",
    "label_dir = \"data/badAsphalt/bad_labels\"\n",
    "\n",
    "train_image_dst = \"yolo_data/train/images\"\n",
    "train_label_dst = \"yolo_data/train/labels\"\n",
    "val_image_dst = \"yolo_data/val/images\"\n",
    "val_label_dst = \"yolo_data/val/labels\"\n",
    "\n",
    "os.makedirs(train_image_dst, exist_ok=True)\n",
    "os.makedirs(train_label_dst, exist_ok=True)\n",
    "os.makedirs(val_image_dst, exist_ok=True)\n",
    "os.makedirs(val_label_dst, exist_ok=True)"
   ]
  },
  {
   "cell_type": "code",
   "execution_count": 8,
   "metadata": {},
   "outputs": [],
   "source": [
    "image_files = sorted([f for f in os.listdir(image_dir) if f.endswith(\".png\")])\n",
    "train_images = image_files[:156]\n",
    "val_images = image_files[-30:]"
   ]
  },
  {
   "cell_type": "code",
   "execution_count": 9,
   "metadata": {},
   "outputs": [
    {
     "name": "stdout",
     "output_type": "stream",
     "text": [
      "✅ PNGs converted to JPGs and files copied.\n"
     ]
    }
   ],
   "source": [
    "def convert_and_copy(images, image_dst, label_dst):\n",
    "    for png_name in images:\n",
    "        # Convert .png to .jpg\n",
    "        img_path = os.path.join(image_dir, png_name)\n",
    "        img = Image.open(img_path).convert(\"RGB\")\n",
    "        \n",
    "        jpg_name = png_name.replace(\".png\", \".JPG\")\n",
    "        img.save(os.path.join(image_dst, jpg_name), \"JPEG\")\n",
    "\n",
    "        # Copy label with adjusted name\n",
    "        label_name = png_name.replace(\".png\", \".txt\")\n",
    "        shutil.copy(os.path.join(label_dir, label_name), os.path.join(label_dst, label_name))\n",
    "\n",
    "convert_and_copy(train_images, train_image_dst, train_label_dst)\n",
    "convert_and_copy(val_images, val_image_dst, val_label_dst)\n",
    "\n",
    "print(\"✅ PNGs converted to JPGs and files copied.\")"
   ]
  },
  {
   "cell_type": "markdown",
   "metadata": {},
   "source": [
    "#### Potholes dataset"
   ]
  },
  {
   "cell_type": "code",
   "execution_count": 10,
   "metadata": {},
   "outputs": [],
   "source": [
    "base_dir = \"data/Potholes_dataset\"\n",
    "train_img_dst = \"yolo_data/train/images\"\n",
    "train_lbl_dst = \"yolo_data/train/labels\"\n",
    "val_img_dst = \"yolo_data/val/images\"\n",
    "val_lbl_dst = \"yolo_data/val/labels\"\n",
    "\n",
    "os.makedirs(train_img_dst, exist_ok=True)\n",
    "os.makedirs(train_lbl_dst, exist_ok=True)\n",
    "os.makedirs(val_img_dst, exist_ok=True)\n",
    "os.makedirs(val_lbl_dst, exist_ok=True)"
   ]
  },
  {
   "cell_type": "code",
   "execution_count": 11,
   "metadata": {},
   "outputs": [
    {
     "name": "stdout",
     "output_type": "stream",
     "text": [
      "✅ All subfolders in Potholes_dataset processed successfully.\n"
     ]
    }
   ],
   "source": [
    "from PIL import Image\n",
    "import shutil\n",
    "import os\n",
    "from math import floor\n",
    "\n",
    "def process_split(file_list, img_dst, lbl_dst):\n",
    "    for img_name in file_list:\n",
    "        base_name = os.path.splitext(img_name)[0]\n",
    "        img_path = os.path.join(sub_path, img_name)\n",
    "        label_path = os.path.join(sub_path, base_name + \".txt\")\n",
    "\n",
    "        # Convert image to .JPG\n",
    "        new_img_name = base_name + \".JPG\"\n",
    "        img = Image.open(img_path).convert(\"RGB\")\n",
    "        img.save(os.path.join(img_dst, new_img_name), \"JPEG\")\n",
    "\n",
    "        # Process and copy label file (if it exists)\n",
    "        if os.path.exists(label_path):\n",
    "            new_label_path = os.path.join(lbl_dst, base_name + \".txt\")\n",
    "            with open(label_path, \"r\") as lf, open(new_label_path, \"w\") as out:\n",
    "                for line in lf:\n",
    "                    parts = line.strip().split()\n",
    "                    if len(parts) > 0:\n",
    "                        # Change class to 0, regardless of what it was\n",
    "                        parts[0] = \"0\"\n",
    "                        out.write(\" \".join(parts) + \"\\n\")\n",
    "        else:\n",
    "            print(f\"⚠️ Missing label for {img_name}\")\n",
    "\n",
    "# Iterate over subfolders\n",
    "for subfolder in os.listdir(base_dir):\n",
    "    sub_path = os.path.join(base_dir, subfolder)\n",
    "    \n",
    "    if not os.path.isdir(sub_path):\n",
    "        continue  # Skip if not a folder\n",
    "    \n",
    "    # Collect all .jpg image files\n",
    "    image_files = sorted([f for f in os.listdir(sub_path) if f.lower().endswith(\".jpg\")])\n",
    "    \n",
    "    # Split index\n",
    "    total = len(image_files)\n",
    "    split_index = floor(total * 0.85)\n",
    "    train_files = image_files[:split_index]\n",
    "    val_files = image_files[split_index:]\n",
    "    \n",
    "    # Process training and validation sets\n",
    "    process_split(train_files, train_img_dst, train_lbl_dst)\n",
    "    process_split(val_files, val_img_dst, val_lbl_dst)\n",
    "\n",
    "print(\"✅ All subfolders in Potholes_dataset processed successfully.\")\n"
   ]
  }
 ],
 "metadata": {
  "kernelspec": {
   "display_name": "venv",
   "language": "python",
   "name": "python3"
  },
  "language_info": {
   "codemirror_mode": {
    "name": "ipython",
    "version": 3
   },
   "file_extension": ".py",
   "mimetype": "text/x-python",
   "name": "python",
   "nbconvert_exporter": "python",
   "pygments_lexer": "ipython3",
   "version": "3.11.5"
  }
 },
 "nbformat": 4,
 "nbformat_minor": 2
}
