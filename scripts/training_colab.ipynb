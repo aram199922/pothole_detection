{
 "cells": [
  {
   "cell_type": "markdown",
   "metadata": {},
   "source": [
    "#### Notebook file used for training in Google Colab environment\n",
    "One will upload data and .yaml file into google drive and start training."
   ]
  },
  {
   "cell_type": "code",
   "execution_count": null,
   "metadata": {},
   "outputs": [],
   "source": [
    "!pip install ultralytics"
   ]
  },
  {
   "cell_type": "code",
   "execution_count": null,
   "metadata": {},
   "outputs": [],
   "source": [
    "from ultralytics import YOLO\n",
    "import shutil\n",
    "from google.colab import drive\n",
    "drive.mount('/content/gdrive')"
   ]
  },
  {
   "cell_type": "code",
   "execution_count": null,
   "metadata": {},
   "outputs": [],
   "source": [
    "# Load and train the model\n",
    "model = YOLO('yolov8n.yaml')\n",
    "\n",
    "results = model.train(\n",
    "    data=\"dataset.yaml\",\n",
    "    epochs=25,\n",
    "    imgsz=640\n",
    ")"
   ]
  },
  {
   "cell_type": "code",
   "execution_count": null,
   "metadata": {},
   "outputs": [],
   "source": [
    "drive.mount('/content/gdrive', force_remount=True)\n",
    "source_dir = \"/content/runs\"\n",
    "\n",
    "target_dir = \"/content/gdrive/MyDrive/pothole_detection\"\n",
    "\n",
    "shutil.copytree(source_dir, target_dir, dirs_exist_ok=True)"
   ]
  }
 ],
 "metadata": {
  "language_info": {
   "name": "python"
  }
 },
 "nbformat": 4,
 "nbformat_minor": 2
}
