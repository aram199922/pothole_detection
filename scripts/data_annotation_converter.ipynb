{
 "cells": [
  {
   "cell_type": "markdown",
   "metadata": {},
   "source": [
    "### Converting and splitting dataset from datasetsninja.com"
   ]
  },
  {
   "cell_type": "code",
   "execution_count": 1,
   "metadata": {},
   "outputs": [],
   "source": [
    "import os\n",
    "import shutil\n",
    "import random\n",
    "import cv2"
   ]
  },
  {
   "cell_type": "code",
   "execution_count": 5,
   "metadata": {},
   "outputs": [],
   "source": [
    "image_dir = \"../data/Dataset 1 (Simplex)/Train data/Positive data\"\n",
    "negative_data_dir = \"../data/Dataset 1 (Simplex)/Train data/Negative data\"\n",
    "annotation_file = \"../data/Dataset 1 (Simplex)/simpleTrainFullPhotosSortedFullAnnotations.txt\"\n",
    "\n",
    "# Creating data folders\n",
    "yolo_images_dir = \"../yolo_data/images\"\n",
    "yolo_labels_dir = \"../yolo_data/labels\"\n",
    "os.makedirs(yolo_images_dir, exist_ok=True)\n",
    "os.makedirs(yolo_labels_dir, exist_ok=True)"
   ]
  },
  {
   "cell_type": "code",
   "execution_count": 6,
   "metadata": {},
   "outputs": [],
   "source": [
    "# Function for converting from COCO format to YOLO\n",
    "def convert_to_yolo_format(x, y, w, h, image_width, image_height):\n",
    "    x_center = (x + w / 2) / image_width\n",
    "    y_center = (y + h / 2) / image_height\n",
    "    width = w / image_width\n",
    "    height = h / image_height\n",
    "    return x_center, y_center, width, height"
   ]
  },
  {
   "cell_type": "markdown",
   "metadata": {},
   "source": [
    "#### Processing Negative Images\n",
    "Processing the negative seperately as we don't have label files."
   ]
  },
  {
   "cell_type": "code",
   "execution_count": 7,
   "metadata": {},
   "outputs": [],
   "source": [
    "negative_images = os.listdir(negative_data_dir)\n",
    "\n",
    "# Move negative images and create empty annotation files\n",
    "for image_name in negative_images:\n",
    "    negative_image_path = os.path.join(negative_data_dir, image_name)\n",
    "    yolo_image_path = os.path.join(yolo_images_dir, image_name)\n",
    "    shutil.copy(negative_image_path, yolo_image_path)\n",
    "\n",
    "    txt_name = os.path.splitext(image_name)[0] + \".txt\"\n",
    "    yolo_label_path = os.path.join(yolo_labels_dir, txt_name)\n",
    "    \n",
    "    open(yolo_label_path, 'w').close()"
   ]
  },
  {
   "cell_type": "markdown",
   "metadata": {},
   "source": [
    "### Dealing with positive data\n",
    "\n",
    "### Shuffling into train and validation"
   ]
  },
  {
   "cell_type": "code",
   "execution_count": 9,
   "metadata": {},
   "outputs": [],
   "source": [
    "with open(annotation_file, 'r') as file:\n",
    "    lines = file.readlines()\n",
    "\n",
    "# For each line in the annotation file\n",
    "for line in lines:\n",
    "    parts = line.strip().split()\n",
    "    image_name = parts[2].replace('.bmp', '.JPG')\n",
    "    image_name = image_name.split(\"data\\\\\", 1)[-1]\n",
    "    num_potholes = int(parts[3])\n",
    "\n",
    "    # Extract bounding boxes (4 values for each pothole)\n",
    "    bboxes = []\n",
    "    for i in range(num_potholes):\n",
    "        x = int(parts[4 + i * 4])\n",
    "        y = int(parts[5 + i * 4])\n",
    "        width = int(parts[6 + i * 4])\n",
    "        height = int(parts[7 + i * 4])\n",
    "        bboxes.append((x, y, width, height))\n",
    "\n",
    "    # Load, get dimensions and save\n",
    "    image_path = os.path.join(image_dir, image_name)\n",
    "    image = cv2.imread(image_path)\n",
    "    image_height, image_width, _ = image.shape\n",
    "\n",
    "    yolo_image_path = os.path.join(yolo_images_dir, image_name)\n",
    "    shutil.copy(image_path, yolo_image_path)\n",
    "\n",
    "    # Labels, converting format\n",
    "    yolo_label_path = os.path.join(yolo_labels_dir, image_name.replace('.JPG', '.txt'))\n",
    "\n",
    "    with open(yolo_label_path, 'w') as label_file:\n",
    "        for (x, y, w, h) in bboxes:\n",
    "            x_center, y_center, width, height = convert_to_yolo_format(x, y, w, h, image_width, image_height)\n",
    "            label_file.write(f\"0 {x_center} {y_center} {width} {height}\\n\")\n",
    "\n",
    "# Split the dataset into train and validation sets (80% train, 20% val)\n",
    "image_files = os.listdir(yolo_images_dir)\n",
    "random.shuffle(image_files)\n",
    "\n",
    "split_index = int(0.8 * len(image_files))\n",
    "\n",
    "train_images = image_files[:split_index]\n",
    "val_images = image_files[split_index:]\n",
    "\n",
    "# Create train/val directories\n",
    "train_images_dir = \"../yolo_data/train/images\"\n",
    "val_images_dir = \"../yolo_data/val/images\"\n",
    "train_labels_dir = \"../yolo_data/train/labels\"\n",
    "val_labels_dir = \"../yolo_data/val/labels\"\n",
    "\n",
    "os.makedirs(train_images_dir, exist_ok=True)\n",
    "os.makedirs(val_images_dir, exist_ok=True)\n",
    "os.makedirs(train_labels_dir, exist_ok=True)\n",
    "os.makedirs(val_labels_dir, exist_ok=True)"
   ]
  },
  {
   "cell_type": "code",
   "execution_count": 10,
   "metadata": {},
   "outputs": [
    {
     "name": "stdout",
     "output_type": "stream",
     "text": [
      "Dataset is now ready for YOLOv8 training.\n"
     ]
    }
   ],
   "source": [
    "# Move images and labels to train/val directories\n",
    "for image_name in train_images:\n",
    "    shutil.move(os.path.join(yolo_images_dir, image_name), os.path.join(train_images_dir, image_name))\n",
    "    shutil.move(os.path.join(yolo_labels_dir, image_name.replace('.JPG', '.txt')), os.path.join(train_labels_dir, image_name.replace('.JPG', '.txt')))\n",
    "\n",
    "for image_name in val_images:\n",
    "    shutil.move(os.path.join(yolo_images_dir, image_name), os.path.join(val_images_dir, image_name))\n",
    "    shutil.move(os.path.join(yolo_labels_dir, image_name.replace('.JPG', '.txt')), os.path.join(val_labels_dir, image_name.replace('.JPG', '.txt')))\n",
    "\n",
    "print(\"Dataset is now ready for YOLOv8 training.\")"
   ]
  },
  {
   "cell_type": "markdown",
   "metadata": {},
   "source": [
    "### Dealing with test data"
   ]
  },
  {
   "cell_type": "code",
   "execution_count": 11,
   "metadata": {},
   "outputs": [
    {
     "name": "stdout",
     "output_type": "stream",
     "text": [
      "Test dataset is now ready for YOLOv8 evaluation.\n"
     ]
    }
   ],
   "source": [
    "test_image_dir = \"../data/Dataset 1 (Simplex)/Test data\"\n",
    "test_annotation_file = \"../data/Dataset 1 (Simplex)/simpleTestFullSizeAllPotholesSortedFullAnnotation.txt\"\n",
    "\n",
    "# YOLO Test Directories\n",
    "yolo_test_images_dir = \"../yolo_data/test/images\"\n",
    "yolo_test_labels_dir = \"../yolo_data/test/labels\"\n",
    "os.makedirs(yolo_test_images_dir, exist_ok=True)\n",
    "os.makedirs(yolo_test_labels_dir, exist_ok=True)\n",
    "\n",
    "with open(test_annotation_file, 'r') as file:\n",
    "    lines = file.readlines()\n",
    "\n",
    "# For each line in the test annotation file\n",
    "for line in lines:\n",
    "    parts = line.strip().split()\n",
    "    image_name = parts[1].replace('.bmp', '.JPG')\n",
    "    image_name = image_name.split(\"data\\\\\", 1)[-1]\n",
    "    num_potholes = int(parts[2])\n",
    "\n",
    "    # Extract bounding boxes\n",
    "    bboxes = []\n",
    "    for i in range(num_potholes):\n",
    "        x = int(parts[3 + i * 4])\n",
    "        y = int(parts[4 + i * 4])\n",
    "        width = int(parts[5 + i * 4])\n",
    "        height = int(parts[6 + i * 4])\n",
    "        bboxes.append((x, y, width, height))\n",
    "\n",
    "    # Load, get dimensions and save images\n",
    "    image_path = os.path.join(test_image_dir, image_name)\n",
    "    image = cv2.imread(image_path)\n",
    "    image_height, image_width, _ = image.shape\n",
    "\n",
    "    yolo_image_path = os.path.join(yolo_test_images_dir, image_name)\n",
    "    shutil.copy(image_path, yolo_image_path)\n",
    "\n",
    "    # labels and converting\n",
    "    yolo_label_path = os.path.join(yolo_test_labels_dir, image_name.replace('.JPG', '.txt'))\n",
    "\n",
    "    with open(yolo_label_path, 'w') as label_file:\n",
    "        for (x, y, w, h) in bboxes:\n",
    "            x_center, y_center, width, height = convert_to_yolo_format(x, y, w, h, image_width, image_height)\n",
    "            label_file.write(f\"0 {x_center} {y_center} {width} {height}\\n\")\n",
    "\n",
    "print(\"Test dataset is now ready for YOLOv8 evaluation.\")"
   ]
  }
 ],
 "metadata": {
  "kernelspec": {
   "display_name": "venv",
   "language": "python",
   "name": "python3"
  },
  "language_info": {
   "codemirror_mode": {
    "name": "ipython",
    "version": 3
   },
   "file_extension": ".py",
   "mimetype": "text/x-python",
   "name": "python",
   "nbconvert_exporter": "python",
   "pygments_lexer": "ipython3",
   "version": "3.11.5"
  }
 },
 "nbformat": 4,
 "nbformat_minor": 2
}
