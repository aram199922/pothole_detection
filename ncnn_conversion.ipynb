{
 "cells": [
  {
   "cell_type": "code",
   "execution_count": 6,
   "metadata": {},
   "outputs": [
    {
     "name": "stdout",
     "output_type": "stream",
     "text": [
      "Ultralytics 8.3.49  Python-3.11.5 torch-2.6.0+cpu CPU (Intel Core(TM) i7-2600 3.40GHz)\n",
      "YOLO11n summary (fused): 238 layers, 2,582,347 parameters, 0 gradients, 6.3 GFLOPs\n",
      "\n",
      "\u001b[34m\u001b[1mPyTorch:\u001b[0m starting from 'testing_quantization_half\\best.pt' with input shape (1, 3, 640, 640) BCHW and output shape(s) (1, 5, 8400) (5.2 MB)\n",
      "\n",
      "\u001b[34m\u001b[1mTorchScript:\u001b[0m starting export with torch 2.6.0+cpu...\n",
      "\u001b[34m\u001b[1mTorchScript:\u001b[0m export success  4.7s, saved as 'testing_quantization_half\\best.torchscript' (10.4 MB)\n",
      "\n",
      "\u001b[34m\u001b[1mNCNN:\u001b[0m starting export with NCNN 1.0.20241226...\n",
      "\u001b[34m\u001b[1mNCNN:\u001b[0m running 'C:\\pothole_detection\\venv\\Lib\\site-packages\\ultralytics\\pnnx.exe testing_quantization_half\\best.torchscript ncnnparam=testing_quantization_half\\best_ncnn_model\\model.ncnn.param ncnnbin=testing_quantization_half\\best_ncnn_model\\model.ncnn.bin ncnnpy=testing_quantization_half\\best_ncnn_model\\model_ncnn.py pnnxparam=testing_quantization_half\\best_ncnn_model\\model.pnnx.param pnnxbin=testing_quantization_half\\best_ncnn_model\\model.pnnx.bin pnnxpy=testing_quantization_half\\best_ncnn_model\\model_pnnx.py pnnxonnx=testing_quantization_half\\best_ncnn_model\\model.pnnx.onnx fp16=1 device=cpu inputshape=\"[1, 3, 640, 640]\"'\n",
      "\u001b[34m\u001b[1mNCNN:\u001b[0m export success  2.9s, saved as 'testing_quantization_half\\best_ncnn_model' (5.1 MB)\n",
      "\n",
      "Export complete (8.4s)\n",
      "Results saved to \u001b[1mC:\\pothole_detection\\testing_quantization_half\u001b[0m\n",
      "Predict:         yolo predict task=detect model=testing_quantization_half\\best_ncnn_model imgsz=640 half \n",
      "Validate:        yolo val task=detect model=testing_quantization_half\\best_ncnn_model imgsz=640 data=/content/gdrive/My Drive/pothole_detection/google_colab_config.yaml half \n",
      "Visualize:       https://netron.app\n"
     ]
    },
    {
     "data": {
      "text/plain": [
       "'testing_quantization_half\\\\best_ncnn_model'"
      ]
     },
     "execution_count": 6,
     "metadata": {},
     "output_type": "execute_result"
    }
   ],
   "source": [
    "from ultralytics import YOLO\n",
    "\n",
    "model = YOLO(\"testing_quantization_int8/best.pt\")\n",
    "\n",
    "model.export(format=\"ncnn\", int8=True, data=\"calibration_images\")\n",
    "# model.export(format=\"ncnn\", half=True)\n",
    "\n",
    "# ncnn_model = YOLO(\"runs_237_250/detect/train/weights/best_ncnn_model\")"
   ]
  }
 ],
 "metadata": {
  "kernelspec": {
   "display_name": "venv",
   "language": "python",
   "name": "python3"
  },
  "language_info": {
   "codemirror_mode": {
    "name": "ipython",
    "version": 3
   },
   "file_extension": ".py",
   "mimetype": "text/x-python",
   "name": "python",
   "nbconvert_exporter": "python",
   "pygments_lexer": "ipython3",
   "version": "3.11.5"
  }
 },
 "nbformat": 4,
 "nbformat_minor": 2
}
